{
  "cells": [
    {
      "cell_type": "code",
      "execution_count": 1,
      "metadata": {
        "id": "j18Zdi2VzzkW"
      },
      "outputs": [],
      "source": [
        "import numpy as np\n",
        "import pandas as pd\n"
      ]
    },
    {
      "cell_type": "code",
      "execution_count": 2,
      "metadata": {
        "id": "KTT7HWvVz8P7"
      },
      "outputs": [],
      "source": [
        "df = pd.read_excel(\"//content//crop_csv_file.xlsx\")"
      ]
    },
    {
      "cell_type": "code",
      "execution_count": 3,
      "metadata": {
        "colab": {
          "base_uri": "https://localhost:8080/",
          "height": 354
        },
        "id": "xMJUx7DW0sN_",
        "outputId": "905233c2-d085-4c0e-81bb-15253352564c"
      },
      "outputs": [
        {
          "data": {
            "text/html": [
              "\n",
              "  <div id=\"df-4271cba0-42e8-4251-9261-ac090579ed76\">\n",
              "    <div class=\"colab-df-container\">\n",
              "      <div>\n",
              "<style scoped>\n",
              "    .dataframe tbody tr th:only-of-type {\n",
              "        vertical-align: middle;\n",
              "    }\n",
              "\n",
              "    .dataframe tbody tr th {\n",
              "        vertical-align: top;\n",
              "    }\n",
              "\n",
              "    .dataframe thead th {\n",
              "        text-align: right;\n",
              "    }\n",
              "</style>\n",
              "<table border=\"1\" class=\"dataframe\">\n",
              "  <thead>\n",
              "    <tr style=\"text-align: right;\">\n",
              "      <th></th>\n",
              "      <th>State_Name</th>\n",
              "      <th>District_Name</th>\n",
              "      <th>Crop_Year</th>\n",
              "      <th>Season</th>\n",
              "      <th>Crop</th>\n",
              "      <th>Temperature</th>\n",
              "      <th>humidity</th>\n",
              "      <th>soil moisture</th>\n",
              "      <th>area</th>\n",
              "      <th>Production</th>\n",
              "    </tr>\n",
              "  </thead>\n",
              "  <tbody>\n",
              "    <tr>\n",
              "      <th>0</th>\n",
              "      <td>Andaman and Nicobar Islands</td>\n",
              "      <td>NICOBARS</td>\n",
              "      <td>2000</td>\n",
              "      <td>Kharif</td>\n",
              "      <td>Arecanut</td>\n",
              "      <td>36</td>\n",
              "      <td>35</td>\n",
              "      <td>45</td>\n",
              "      <td>1254.0</td>\n",
              "      <td>2000.0</td>\n",
              "    </tr>\n",
              "    <tr>\n",
              "      <th>1</th>\n",
              "      <td>Andaman and Nicobar Islands</td>\n",
              "      <td>NICOBARS</td>\n",
              "      <td>2000</td>\n",
              "      <td>Kharif</td>\n",
              "      <td>Other Kharif pulses</td>\n",
              "      <td>37</td>\n",
              "      <td>40</td>\n",
              "      <td>46</td>\n",
              "      <td>2.0</td>\n",
              "      <td>1.0</td>\n",
              "    </tr>\n",
              "    <tr>\n",
              "      <th>2</th>\n",
              "      <td>Andaman and Nicobar Islands</td>\n",
              "      <td>NICOBARS</td>\n",
              "      <td>2000</td>\n",
              "      <td>Kharif</td>\n",
              "      <td>Rice</td>\n",
              "      <td>36</td>\n",
              "      <td>41</td>\n",
              "      <td>50</td>\n",
              "      <td>102.0</td>\n",
              "      <td>321.0</td>\n",
              "    </tr>\n",
              "    <tr>\n",
              "      <th>3</th>\n",
              "      <td>Andaman and Nicobar Islands</td>\n",
              "      <td>NICOBARS</td>\n",
              "      <td>2000</td>\n",
              "      <td>Whole Year</td>\n",
              "      <td>Banana</td>\n",
              "      <td>37</td>\n",
              "      <td>42</td>\n",
              "      <td>55</td>\n",
              "      <td>176.0</td>\n",
              "      <td>641.0</td>\n",
              "    </tr>\n",
              "    <tr>\n",
              "      <th>4</th>\n",
              "      <td>Andaman and Nicobar Islands</td>\n",
              "      <td>NICOBARS</td>\n",
              "      <td>2000</td>\n",
              "      <td>Whole Year</td>\n",
              "      <td>Cashewnut</td>\n",
              "      <td>36</td>\n",
              "      <td>40</td>\n",
              "      <td>54</td>\n",
              "      <td>720.0</td>\n",
              "      <td>165.0</td>\n",
              "    </tr>\n",
              "  </tbody>\n",
              "</table>\n",
              "</div>\n",
              "      <button class=\"colab-df-convert\" onclick=\"convertToInteractive('df-4271cba0-42e8-4251-9261-ac090579ed76')\"\n",
              "              title=\"Convert this dataframe to an interactive table.\"\n",
              "              style=\"display:none;\">\n",
              "        \n",
              "  <svg xmlns=\"http://www.w3.org/2000/svg\" height=\"24px\"viewBox=\"0 0 24 24\"\n",
              "       width=\"24px\">\n",
              "    <path d=\"M0 0h24v24H0V0z\" fill=\"none\"/>\n",
              "    <path d=\"M18.56 5.44l.94 2.06.94-2.06 2.06-.94-2.06-.94-.94-2.06-.94 2.06-2.06.94zm-11 1L8.5 8.5l.94-2.06 2.06-.94-2.06-.94L8.5 2.5l-.94 2.06-2.06.94zm10 10l.94 2.06.94-2.06 2.06-.94-2.06-.94-.94-2.06-.94 2.06-2.06.94z\"/><path d=\"M17.41 7.96l-1.37-1.37c-.4-.4-.92-.59-1.43-.59-.52 0-1.04.2-1.43.59L10.3 9.45l-7.72 7.72c-.78.78-.78 2.05 0 2.83L4 21.41c.39.39.9.59 1.41.59.51 0 1.02-.2 1.41-.59l7.78-7.78 2.81-2.81c.8-.78.8-2.07 0-2.86zM5.41 20L4 18.59l7.72-7.72 1.47 1.35L5.41 20z\"/>\n",
              "  </svg>\n",
              "      </button>\n",
              "      \n",
              "  <style>\n",
              "    .colab-df-container {\n",
              "      display:flex;\n",
              "      flex-wrap:wrap;\n",
              "      gap: 12px;\n",
              "    }\n",
              "\n",
              "    .colab-df-convert {\n",
              "      background-color: #E8F0FE;\n",
              "      border: none;\n",
              "      border-radius: 50%;\n",
              "      cursor: pointer;\n",
              "      display: none;\n",
              "      fill: #1967D2;\n",
              "      height: 32px;\n",
              "      padding: 0 0 0 0;\n",
              "      width: 32px;\n",
              "    }\n",
              "\n",
              "    .colab-df-convert:hover {\n",
              "      background-color: #E2EBFA;\n",
              "      box-shadow: 0px 1px 2px rgba(60, 64, 67, 0.3), 0px 1px 3px 1px rgba(60, 64, 67, 0.15);\n",
              "      fill: #174EA6;\n",
              "    }\n",
              "\n",
              "    [theme=dark] .colab-df-convert {\n",
              "      background-color: #3B4455;\n",
              "      fill: #D2E3FC;\n",
              "    }\n",
              "\n",
              "    [theme=dark] .colab-df-convert:hover {\n",
              "      background-color: #434B5C;\n",
              "      box-shadow: 0px 1px 3px 1px rgba(0, 0, 0, 0.15);\n",
              "      filter: drop-shadow(0px 1px 2px rgba(0, 0, 0, 0.3));\n",
              "      fill: #FFFFFF;\n",
              "    }\n",
              "  </style>\n",
              "\n",
              "      <script>\n",
              "        const buttonEl =\n",
              "          document.querySelector('#df-4271cba0-42e8-4251-9261-ac090579ed76 button.colab-df-convert');\n",
              "        buttonEl.style.display =\n",
              "          google.colab.kernel.accessAllowed ? 'block' : 'none';\n",
              "\n",
              "        async function convertToInteractive(key) {\n",
              "          const element = document.querySelector('#df-4271cba0-42e8-4251-9261-ac090579ed76');\n",
              "          const dataTable =\n",
              "            await google.colab.kernel.invokeFunction('convertToInteractive',\n",
              "                                                     [key], {});\n",
              "          if (!dataTable) return;\n",
              "\n",
              "          const docLinkHtml = 'Like what you see? Visit the ' +\n",
              "            '<a target=\"_blank\" href=https://colab.research.google.com/notebooks/data_table.ipynb>data table notebook</a>'\n",
              "            + ' to learn more about interactive tables.';\n",
              "          element.innerHTML = '';\n",
              "          dataTable['output_type'] = 'display_data';\n",
              "          await google.colab.output.renderOutput(dataTable, element);\n",
              "          const docLink = document.createElement('div');\n",
              "          docLink.innerHTML = docLinkHtml;\n",
              "          element.appendChild(docLink);\n",
              "        }\n",
              "      </script>\n",
              "    </div>\n",
              "  </div>\n",
              "  "
            ],
            "text/plain": [
              "                    State_Name District_Name  Crop_Year       Season  \\\n",
              "0  Andaman and Nicobar Islands      NICOBARS       2000  Kharif        \n",
              "1  Andaman and Nicobar Islands      NICOBARS       2000  Kharif        \n",
              "2  Andaman and Nicobar Islands      NICOBARS       2000  Kharif        \n",
              "3  Andaman and Nicobar Islands      NICOBARS       2000  Whole Year    \n",
              "4  Andaman and Nicobar Islands      NICOBARS       2000  Whole Year    \n",
              "\n",
              "                  Crop  Temperature  humidity  soil moisture    area  \\\n",
              "0             Arecanut           36        35             45  1254.0   \n",
              "1  Other Kharif pulses           37        40             46     2.0   \n",
              "2                 Rice           36        41             50   102.0   \n",
              "3               Banana           37        42             55   176.0   \n",
              "4            Cashewnut           36        40             54   720.0   \n",
              "\n",
              "   Production  \n",
              "0      2000.0  \n",
              "1         1.0  \n",
              "2       321.0  \n",
              "3       641.0  \n",
              "4       165.0  "
            ]
          },
          "execution_count": 3,
          "metadata": {},
          "output_type": "execute_result"
        }
      ],
      "source": [
        "df.head()"
      ]
    },
    {
      "cell_type": "code",
      "execution_count": 4,
      "metadata": {
        "colab": {
          "base_uri": "https://localhost:8080/",
          "height": 300
        },
        "id": "xjisHFnR0wJF",
        "outputId": "c071529c-28e6-4f19-d151-47b9bbcf126b"
      },
      "outputs": [
        {
          "data": {
            "text/html": [
              "\n",
              "  <div id=\"df-9cd286f6-698b-4af8-86a5-2880c43b7930\">\n",
              "    <div class=\"colab-df-container\">\n",
              "      <div>\n",
              "<style scoped>\n",
              "    .dataframe tbody tr th:only-of-type {\n",
              "        vertical-align: middle;\n",
              "    }\n",
              "\n",
              "    .dataframe tbody tr th {\n",
              "        vertical-align: top;\n",
              "    }\n",
              "\n",
              "    .dataframe thead th {\n",
              "        text-align: right;\n",
              "    }\n",
              "</style>\n",
              "<table border=\"1\" class=\"dataframe\">\n",
              "  <thead>\n",
              "    <tr style=\"text-align: right;\">\n",
              "      <th></th>\n",
              "      <th>Crop_Year</th>\n",
              "      <th>Temperature</th>\n",
              "      <th>humidity</th>\n",
              "      <th>soil moisture</th>\n",
              "      <th>area</th>\n",
              "      <th>Production</th>\n",
              "    </tr>\n",
              "  </thead>\n",
              "  <tbody>\n",
              "    <tr>\n",
              "      <th>count</th>\n",
              "      <td>49999.000000</td>\n",
              "      <td>49999.000000</td>\n",
              "      <td>49999.000000</td>\n",
              "      <td>49999.000000</td>\n",
              "      <td>49999.000000</td>\n",
              "      <td>4.978400e+04</td>\n",
              "    </tr>\n",
              "    <tr>\n",
              "      <th>mean</th>\n",
              "      <td>2005.879138</td>\n",
              "      <td>34.445489</td>\n",
              "      <td>44.776116</td>\n",
              "      <td>53.110502</td>\n",
              "      <td>7363.389469</td>\n",
              "      <td>4.132019e+05</td>\n",
              "    </tr>\n",
              "    <tr>\n",
              "      <th>std</th>\n",
              "      <td>5.106092</td>\n",
              "      <td>3.498524</td>\n",
              "      <td>6.662406</td>\n",
              "      <td>5.258764</td>\n",
              "      <td>27927.935789</td>\n",
              "      <td>1.232609e+07</td>\n",
              "    </tr>\n",
              "    <tr>\n",
              "      <th>min</th>\n",
              "      <td>1997.000000</td>\n",
              "      <td>25.000000</td>\n",
              "      <td>35.000000</td>\n",
              "      <td>45.000000</td>\n",
              "      <td>0.200000</td>\n",
              "      <td>0.000000e+00</td>\n",
              "    </tr>\n",
              "    <tr>\n",
              "      <th>25%</th>\n",
              "      <td>2002.000000</td>\n",
              "      <td>34.000000</td>\n",
              "      <td>40.000000</td>\n",
              "      <td>50.000000</td>\n",
              "      <td>76.000000</td>\n",
              "      <td>8.700000e+01</td>\n",
              "    </tr>\n",
              "    <tr>\n",
              "      <th>50%</th>\n",
              "      <td>2006.000000</td>\n",
              "      <td>36.000000</td>\n",
              "      <td>42.000000</td>\n",
              "      <td>54.000000</td>\n",
              "      <td>436.000000</td>\n",
              "      <td>6.384400e+02</td>\n",
              "    </tr>\n",
              "    <tr>\n",
              "      <th>75%</th>\n",
              "      <td>2010.000000</td>\n",
              "      <td>36.000000</td>\n",
              "      <td>50.000000</td>\n",
              "      <td>55.000000</td>\n",
              "      <td>2546.500000</td>\n",
              "      <td>5.615000e+03</td>\n",
              "    </tr>\n",
              "    <tr>\n",
              "      <th>max</th>\n",
              "      <td>2014.000000</td>\n",
              "      <td>37.000000</td>\n",
              "      <td>55.000000</td>\n",
              "      <td>62.000000</td>\n",
              "      <td>877029.000000</td>\n",
              "      <td>7.801620e+08</td>\n",
              "    </tr>\n",
              "  </tbody>\n",
              "</table>\n",
              "</div>\n",
              "      <button class=\"colab-df-convert\" onclick=\"convertToInteractive('df-9cd286f6-698b-4af8-86a5-2880c43b7930')\"\n",
              "              title=\"Convert this dataframe to an interactive table.\"\n",
              "              style=\"display:none;\">\n",
              "        \n",
              "  <svg xmlns=\"http://www.w3.org/2000/svg\" height=\"24px\"viewBox=\"0 0 24 24\"\n",
              "       width=\"24px\">\n",
              "    <path d=\"M0 0h24v24H0V0z\" fill=\"none\"/>\n",
              "    <path d=\"M18.56 5.44l.94 2.06.94-2.06 2.06-.94-2.06-.94-.94-2.06-.94 2.06-2.06.94zm-11 1L8.5 8.5l.94-2.06 2.06-.94-2.06-.94L8.5 2.5l-.94 2.06-2.06.94zm10 10l.94 2.06.94-2.06 2.06-.94-2.06-.94-.94-2.06-.94 2.06-2.06.94z\"/><path d=\"M17.41 7.96l-1.37-1.37c-.4-.4-.92-.59-1.43-.59-.52 0-1.04.2-1.43.59L10.3 9.45l-7.72 7.72c-.78.78-.78 2.05 0 2.83L4 21.41c.39.39.9.59 1.41.59.51 0 1.02-.2 1.41-.59l7.78-7.78 2.81-2.81c.8-.78.8-2.07 0-2.86zM5.41 20L4 18.59l7.72-7.72 1.47 1.35L5.41 20z\"/>\n",
              "  </svg>\n",
              "      </button>\n",
              "      \n",
              "  <style>\n",
              "    .colab-df-container {\n",
              "      display:flex;\n",
              "      flex-wrap:wrap;\n",
              "      gap: 12px;\n",
              "    }\n",
              "\n",
              "    .colab-df-convert {\n",
              "      background-color: #E8F0FE;\n",
              "      border: none;\n",
              "      border-radius: 50%;\n",
              "      cursor: pointer;\n",
              "      display: none;\n",
              "      fill: #1967D2;\n",
              "      height: 32px;\n",
              "      padding: 0 0 0 0;\n",
              "      width: 32px;\n",
              "    }\n",
              "\n",
              "    .colab-df-convert:hover {\n",
              "      background-color: #E2EBFA;\n",
              "      box-shadow: 0px 1px 2px rgba(60, 64, 67, 0.3), 0px 1px 3px 1px rgba(60, 64, 67, 0.15);\n",
              "      fill: #174EA6;\n",
              "    }\n",
              "\n",
              "    [theme=dark] .colab-df-convert {\n",
              "      background-color: #3B4455;\n",
              "      fill: #D2E3FC;\n",
              "    }\n",
              "\n",
              "    [theme=dark] .colab-df-convert:hover {\n",
              "      background-color: #434B5C;\n",
              "      box-shadow: 0px 1px 3px 1px rgba(0, 0, 0, 0.15);\n",
              "      filter: drop-shadow(0px 1px 2px rgba(0, 0, 0, 0.3));\n",
              "      fill: #FFFFFF;\n",
              "    }\n",
              "  </style>\n",
              "\n",
              "      <script>\n",
              "        const buttonEl =\n",
              "          document.querySelector('#df-9cd286f6-698b-4af8-86a5-2880c43b7930 button.colab-df-convert');\n",
              "        buttonEl.style.display =\n",
              "          google.colab.kernel.accessAllowed ? 'block' : 'none';\n",
              "\n",
              "        async function convertToInteractive(key) {\n",
              "          const element = document.querySelector('#df-9cd286f6-698b-4af8-86a5-2880c43b7930');\n",
              "          const dataTable =\n",
              "            await google.colab.kernel.invokeFunction('convertToInteractive',\n",
              "                                                     [key], {});\n",
              "          if (!dataTable) return;\n",
              "\n",
              "          const docLinkHtml = 'Like what you see? Visit the ' +\n",
              "            '<a target=\"_blank\" href=https://colab.research.google.com/notebooks/data_table.ipynb>data table notebook</a>'\n",
              "            + ' to learn more about interactive tables.';\n",
              "          element.innerHTML = '';\n",
              "          dataTable['output_type'] = 'display_data';\n",
              "          await google.colab.output.renderOutput(dataTable, element);\n",
              "          const docLink = document.createElement('div');\n",
              "          docLink.innerHTML = docLinkHtml;\n",
              "          element.appendChild(docLink);\n",
              "        }\n",
              "      </script>\n",
              "    </div>\n",
              "  </div>\n",
              "  "
            ],
            "text/plain": [
              "          Crop_Year   Temperature      humidity  soil moisture           area  \\\n",
              "count  49999.000000  49999.000000  49999.000000   49999.000000   49999.000000   \n",
              "mean    2005.879138     34.445489     44.776116      53.110502    7363.389469   \n",
              "std        5.106092      3.498524      6.662406       5.258764   27927.935789   \n",
              "min     1997.000000     25.000000     35.000000      45.000000       0.200000   \n",
              "25%     2002.000000     34.000000     40.000000      50.000000      76.000000   \n",
              "50%     2006.000000     36.000000     42.000000      54.000000     436.000000   \n",
              "75%     2010.000000     36.000000     50.000000      55.000000    2546.500000   \n",
              "max     2014.000000     37.000000     55.000000      62.000000  877029.000000   \n",
              "\n",
              "         Production  \n",
              "count  4.978400e+04  \n",
              "mean   4.132019e+05  \n",
              "std    1.232609e+07  \n",
              "min    0.000000e+00  \n",
              "25%    8.700000e+01  \n",
              "50%    6.384400e+02  \n",
              "75%    5.615000e+03  \n",
              "max    7.801620e+08  "
            ]
          },
          "execution_count": 4,
          "metadata": {},
          "output_type": "execute_result"
        }
      ],
      "source": [
        "df.describe()"
      ]
    },
    {
      "cell_type": "code",
      "execution_count": 5,
      "metadata": {
        "colab": {
          "base_uri": "https://localhost:8080/"
        },
        "id": "BuPWdj-K0y2R",
        "outputId": "6080217b-94e1-48ee-8f78-f9a0e9985f67"
      },
      "outputs": [
        {
          "name": "stdout",
          "output_type": "stream",
          "text": [
            "<class 'pandas.core.frame.DataFrame'>\n",
            "RangeIndex: 49999 entries, 0 to 49998\n",
            "Data columns (total 10 columns):\n",
            " #   Column         Non-Null Count  Dtype  \n",
            "---  ------         --------------  -----  \n",
            " 0   State_Name     49999 non-null  object \n",
            " 1   District_Name  49999 non-null  object \n",
            " 2   Crop_Year      49999 non-null  int64  \n",
            " 3   Season         49999 non-null  object \n",
            " 4   Crop           49999 non-null  object \n",
            " 5   Temperature    49999 non-null  int64  \n",
            " 6   humidity       49999 non-null  int64  \n",
            " 7   soil moisture  49999 non-null  int64  \n",
            " 8    area          49999 non-null  float64\n",
            " 9   Production     49784 non-null  float64\n",
            "dtypes: float64(2), int64(4), object(4)\n",
            "memory usage: 3.8+ MB\n"
          ]
        }
      ],
      "source": [
        "df.info()"
      ]
    },
    {
      "cell_type": "code",
      "execution_count": 6,
      "metadata": {
        "colab": {
          "base_uri": "https://localhost:8080/"
        },
        "id": "R7ei6W441Cnq",
        "outputId": "213d9f46-885d-4f2e-f16e-685de6045f48"
      },
      "outputs": [
        {
          "data": {
            "text/plain": [
              "215"
            ]
          },
          "execution_count": 6,
          "metadata": {},
          "output_type": "execute_result"
        }
      ],
      "source": [
        "df['Production'].isna().sum()"
      ]
    },
    {
      "cell_type": "code",
      "execution_count": 7,
      "metadata": {
        "id": "NxqefjuU1JBF"
      },
      "outputs": [],
      "source": [
        "df = df.dropna()"
      ]
    },
    {
      "cell_type": "code",
      "execution_count": 8,
      "metadata": {
        "colab": {
          "base_uri": "https://localhost:8080/"
        },
        "id": "_UP7Np1F1K_F",
        "outputId": "42c33e1a-fbde-4928-9388-2faf680d5bcc"
      },
      "outputs": [
        {
          "data": {
            "text/plain": [
              "(49784, 10)"
            ]
          },
          "execution_count": 8,
          "metadata": {},
          "output_type": "execute_result"
        }
      ],
      "source": [
        "df.shape"
      ]
    },
    {
      "cell_type": "code",
      "execution_count": 9,
      "metadata": {
        "colab": {
          "base_uri": "https://localhost:8080/"
        },
        "id": "caJFKR8HIMa-",
        "outputId": "b063fc78-8294-4a8a-89bb-bdb3cb6130e1"
      },
      "outputs": [
        {
          "data": {
            "text/plain": [
              "array(['Kharif     ', 'Whole Year ', 'Autumn     ', 'Rabi       ',\n",
              "       'Summer     ', 'Winter     '], dtype=object)"
            ]
          },
          "execution_count": 9,
          "metadata": {},
          "output_type": "execute_result"
        }
      ],
      "source": [
        "df[\"Season\"].unique()"
      ]
    },
    {
      "cell_type": "code",
      "execution_count": 10,
      "metadata": {
        "colab": {
          "base_uri": "https://localhost:8080/"
        },
        "id": "aBiqemzUIWFH",
        "outputId": "58c47f4e-5a5b-44a2-95ce-1b5fcabb4c66"
      },
      "outputs": [
        {
          "name": "stderr",
          "output_type": "stream",
          "text": [
            "/usr/local/lib/python3.7/dist-packages/ipykernel_launcher.py:1: SettingWithCopyWarning: \n",
            "A value is trying to be set on a copy of a slice from a DataFrame.\n",
            "Try using .loc[row_indexer,col_indexer] = value instead\n",
            "\n",
            "See the caveats in the documentation: https://pandas.pydata.org/pandas-docs/stable/user_guide/indexing.html#returning-a-view-versus-a-copy\n",
            "  \"\"\"Entry point for launching an IPython kernel.\n"
          ]
        }
      ],
      "source": [
        "df[\"Season\"] = df[\"Season\"].str.strip()"
      ]
    },
    {
      "cell_type": "code",
      "execution_count": 11,
      "metadata": {
        "colab": {
          "base_uri": "https://localhost:8080/"
        },
        "id": "g3SGY-mdIjMt",
        "outputId": "62f988cc-8bea-4908-a1ef-55c78045edd0"
      },
      "outputs": [
        {
          "data": {
            "text/plain": [
              "array(['Arecanut', 'Other Kharif pulses', 'Rice', 'Banana', 'Cashewnut',\n",
              "       'Coconut ', 'Dry ginger', 'Sugarcane', 'Sweet potato', 'Tapioca',\n",
              "       'Black pepper', 'Dry chillies', 'other oilseeds', 'Turmeric',\n",
              "       'Maize', 'Moong(Green Gram)', 'Urad', 'Arhar/Tur', 'Groundnut',\n",
              "       'Sunflower', 'Bajra', 'Castor seed', 'Cotton(lint)', 'Horse-gram',\n",
              "       'Jowar', 'Korra', 'Ragi', 'Tobacco', 'Gram', 'Wheat', 'Masoor',\n",
              "       'Sesamum', 'Linseed', 'Safflower', 'Onion', 'other misc. pulses',\n",
              "       'Samai', 'Small millets', 'Coriander', 'Potato',\n",
              "       'Other  Rabi pulses', 'Soyabean', 'Beans & Mutter(Vegetable)',\n",
              "       'Bhindi', 'Brinjal', 'Citrus Fruit', 'Cucumber', 'Grapes', 'Mango',\n",
              "       'Orange', 'other fibres', 'Other Fresh Fruits', 'Other Vegetables',\n",
              "       'Papaya', 'Pome Fruit', 'Tomato', 'Mesta', 'Cowpea(Lobia)',\n",
              "       'Lemon', 'Pome Granet', 'Sapota', 'Cabbage', 'Rapeseed &Mustard',\n",
              "       'Peas  (vegetable)', 'Niger seed', 'Bottle Gourd', 'Varagu',\n",
              "       'Garlic', 'Ginger', 'Oilseeds total', 'Pulses total', 'Jute',\n",
              "       'Peas & beans (Pulses)', 'Blackgram', 'Paddy', 'Pineapple',\n",
              "       'Barley', 'Sannhamp', 'Khesari', 'Guar seed'], dtype=object)"
            ]
          },
          "execution_count": 11,
          "metadata": {},
          "output_type": "execute_result"
        }
      ],
      "source": [
        "df[\"Crop\"].unique()"
      ]
    },
    {
      "cell_type": "code",
      "execution_count": 12,
      "metadata": {
        "id": "VzxcdjsB1Nha"
      },
      "outputs": [],
      "source": [
        "from sklearn.model_selection import train_test_split\n",
        "from sklearn.preprocessing import OneHotEncoder,StandardScaler\n",
        "from sklearn.compose import make_column_transformer\n",
        "from sklearn.pipeline import make_pipeline\n",
        "from sklearn.linear_model import LinearRegression\n",
        "from sklearn.ensemble import RandomForestRegressor"
      ]
    },
    {
      "cell_type": "code",
      "execution_count": 13,
      "metadata": {
        "id": "GZDUtnbi1lg-"
      },
      "outputs": [],
      "source": [
        "X = df.drop([\"District_Name\",\"Production\"],axis=1)\n",
        "y = df[\"Production\"]"
      ]
    },
    {
      "cell_type": "code",
      "execution_count": 76,
      "metadata": {
        "id": "DseFiFVZ1qBY"
      },
      "outputs": [],
      "source": [
        "#train test split\n",
        "X_train, X_test, y_train, y_test = train_test_split(X, y, test_size=0.3,random_state=42)"
      ]
    },
    {
      "cell_type": "code",
      "execution_count": 77,
      "metadata": {
        "colab": {
          "base_uri": "https://localhost:8080/"
        },
        "id": "SJXHPP451u1o",
        "outputId": "b82f5aac-37c5-496c-fcce-dca5e768b9a2"
      },
      "outputs": [
        {
          "data": {
            "text/plain": [
              "OneHotEncoder()"
            ]
          },
          "execution_count": 77,
          "metadata": {},
          "output_type": "execute_result"
        }
      ],
      "source": [
        "# creating onehotencoder for State_Name Season Crop\n",
        "ohe = OneHotEncoder()\n",
        "ohe.fit(X[[\"State_Name\",\"Season\",\"Crop\"]])"
      ]
    },
    {
      "cell_type": "code",
      "execution_count": 16,
      "metadata": {
        "id": "D3RDW9F016CM"
      },
      "outputs": [],
      "source": [
        "categories = ohe.categories_"
      ]
    },
    {
      "cell_type": "code",
      "execution_count": 79,
      "metadata": {
        "id": "aLizo1Ml18Ic"
      },
      "outputs": [],
      "source": [
        "# column transformation \n",
        "column_trans = make_column_transformer((OneHotEncoder(drop=\"first\",sparse = False,categories=categories),[\"State_Name\",\"Season\",\"Crop\"]),remainder=\"passthrough\")"
      ]
    },
    {
      "cell_type": "code",
      "execution_count": 80,
      "metadata": {
        "id": "OlnqetJ06--G"
      },
      "outputs": [],
      "source": [
        "# transforming the data into categorical feature\n",
        "X_train_tnf = column_trans.fit_transform(X_train)\n",
        "X_test_tnf = column_trans.transform(X_test)\n",
        "\n",
        "\n",
        "from sklearn.preprocessing import StandardScaler\n",
        "scaler = StandardScaler()\n",
        "X_train_scaled = scaler.fit_transform(X_train_tnf)\n",
        "X_test_scaled = scaler.transform(X_test_tnf)\n",
        "\n"
      ]
    },
    {
      "cell_type": "code",
      "execution_count": 19,
      "metadata": {
        "id": "h1Xb4iK-4z09"
      },
      "outputs": [],
      "source": [
        "lr = LinearRegression()"
      ]
    },
    {
      "cell_type": "code",
      "execution_count": 20,
      "metadata": {
        "id": "o9tajtE15Qu-"
      },
      "outputs": [],
      "source": [
        "pipe = make_pipeline(column_trans,lr)"
      ]
    },
    {
      "cell_type": "code",
      "execution_count": 21,
      "metadata": {
        "colab": {
          "base_uri": "https://localhost:8080/"
        },
        "id": "ba4vJycs5YON",
        "outputId": "969c8b3f-de58-4a8b-85df-2dbc1f57989b"
      },
      "outputs": [
        {
          "data": {
            "text/plain": [
              "LinearRegression()"
            ]
          },
          "execution_count": 21,
          "metadata": {},
          "output_type": "execute_result"
        }
      ],
      "source": [
        "lr.fit(X_train_scaled,y_train)"
      ]
    },
    {
      "cell_type": "code",
      "execution_count": 22,
      "metadata": {
        "id": "sPAYT-GQ6EIy"
      },
      "outputs": [],
      "source": [
        "y_pred_lr = lr.predict(X_test_scaled)"
      ]
    },
    {
      "cell_type": "code",
      "execution_count": 23,
      "metadata": {
        "id": "jv8gN04Y6Hs9"
      },
      "outputs": [],
      "source": [
        "from sklearn.metrics import mean_squared_error,r2_score"
      ]
    },
    {
      "cell_type": "code",
      "execution_count": 24,
      "metadata": {
        "id": "1yiEoOY98zl3"
      },
      "outputs": [],
      "source": [
        "mse = mean_squared_error(y_test,y_pred_lr)"
      ]
    },
    {
      "cell_type": "code",
      "execution_count": 25,
      "metadata": {
        "colab": {
          "base_uri": "https://localhost:8080/"
        },
        "id": "55BGkp5F9EWY",
        "outputId": "6ec2649a-b7c8-4ba9-caa4-a1e9880babce"
      },
      "outputs": [
        {
          "data": {
            "text/plain": [
              "-3.636099123030392"
            ]
          },
          "execution_count": 25,
          "metadata": {},
          "output_type": "execute_result"
        }
      ],
      "source": [
        "r2_score(y_pred_lr,y_test)"
      ]
    },
    {
      "cell_type": "code",
      "execution_count": 39,
      "metadata": {
        "colab": {
          "base_uri": "https://localhost:8080/"
        },
        "id": "Yj2cKK-X_6CR",
        "outputId": "e730a08c-ee45-4089-baac-9aeed4a08fac"
      },
      "outputs": [
        {
          "data": {
            "text/plain": [
              "array(['Andaman and Nicobar Islands', 'Andhra Pradesh',\n",
              "       'Arunachal Pradesh', 'Assam', 'Bihar', 'Chandigarh',\n",
              "       'Chhattisgarh'], dtype=object)"
            ]
          },
          "execution_count": 39,
          "metadata": {},
          "output_type": "execute_result"
        }
      ],
      "source": [
        "df[\"State_Name\"].unique()"
      ]
    },
    {
      "cell_type": "markdown",
      "metadata": {
        "id": "aCkuTvgo_7ZL"
      },
      "source": [
        "**Random forest**"
      ]
    },
    {
      "cell_type": "code",
      "execution_count": 26,
      "metadata": {
        "id": "8BXE8vWB9KFr"
      },
      "outputs": [],
      "source": [
        "model = RandomForestRegressor()"
      ]
    },
    {
      "cell_type": "code",
      "execution_count": 27,
      "metadata": {
        "colab": {
          "base_uri": "https://localhost:8080/"
        },
        "id": "2jUg5Yrx9VxE",
        "outputId": "bffb9c2e-5ffb-4486-e0b9-6f3617f78a48"
      },
      "outputs": [
        {
          "data": {
            "text/plain": [
              "RandomForestRegressor()"
            ]
          },
          "execution_count": 27,
          "metadata": {},
          "output_type": "execute_result"
        }
      ],
      "source": [
        "model.fit(X_train_tnf,y_train)"
      ]
    },
    {
      "cell_type": "code",
      "execution_count": 41,
      "metadata": {
        "id": "DBUWNhpR9ZNc"
      },
      "outputs": [],
      "source": [
        "y_pred = model.predict(X_test_tnf)"
      ]
    },
    {
      "cell_type": "code",
      "execution_count": 42,
      "metadata": {
        "colab": {
          "base_uri": "https://localhost:8080/"
        },
        "id": "AbyXYDx4-lBB",
        "outputId": "6725a122-dbd0-41d2-ba77-708ef0924045"
      },
      "outputs": [
        {
          "data": {
            "text/plain": [
              "array([  972.78,  5934.41, 12771.07, ...,   233.45,   260.13, 21553.67])"
            ]
          },
          "execution_count": 42,
          "metadata": {},
          "output_type": "execute_result"
        }
      ],
      "source": [
        "y_pred"
      ]
    },
    {
      "cell_type": "code",
      "execution_count": 31,
      "metadata": {
        "colab": {
          "base_uri": "https://localhost:8080/"
        },
        "id": "44u2CWni-y57",
        "outputId": "233be42f-9ee6-4384-d2cf-b5d1d6d71e88"
      },
      "outputs": [
        {
          "data": {
            "text/plain": [
              "0.9081367908473792"
            ]
          },
          "execution_count": 31,
          "metadata": {},
          "output_type": "execute_result"
        }
      ],
      "source": [
        "r2_score(y_test,y_pred)"
      ]
    },
    {
      "cell_type": "markdown",
      "metadata": {
        "id": "uvS1tHXhcRsj"
      },
      "source": [
        "**Creating pipeline**"
      ]
    },
    {
      "cell_type": "code",
      "execution_count": 59,
      "metadata": {
        "colab": {
          "base_uri": "https://localhost:8080/"
        },
        "id": "OgakiOsB_AaY",
        "outputId": "0c159cdd-6be6-4d75-df84-d660e5226446"
      },
      "outputs": [
        {
          "data": {
            "text/plain": [
              "Pipeline(steps=[('column_transformer',\n",
              "                 ColumnTransformer(remainder='passthrough',\n",
              "                                   transformers=[('onehotencoder',\n",
              "                                                  OneHotEncoder(categories=[array(['Andaman and Nicobar Islands', 'Andhra Pradesh',\n",
              "       'Arunachal Pradesh', 'Assam', 'Bihar', 'Chandigarh',\n",
              "       'Chhattisgarh'], dtype=object),\n",
              "                                                                            array(['Autumn', 'Kharif', 'Rabi', 'Summer', 'Whole Year', 'Winter'],\n",
              "      dtype=object),\n",
              "                                                                            array(['...\n",
              "       'Sapota', 'Sesamum', 'Small millets', 'Soyabean', 'Sugarcane',\n",
              "       'Sunflower', 'Sweet potato', 'Tapioca', 'Tobacco', 'Tomato',\n",
              "       'Turmeric', 'Urad', 'Varagu', 'Wheat', 'other fibres',\n",
              "       'other misc. pulses', 'other oilseeds'], dtype=object)],\n",
              "                                                                drop='first',\n",
              "                                                                sparse=False),\n",
              "                                                  ['State_Name', 'Season',\n",
              "                                                   'Crop'])])),\n",
              "                ('scaler', StandardScaler()),\n",
              "                ('randomforestRegressor', RandomForestRegressor())])"
            ]
          },
          "execution_count": 59,
          "metadata": {},
          "output_type": "execute_result"
        }
      ],
      "source": [
        "from sklearn.pipeline import Pipeline\n",
        "pipeline = Pipeline([\n",
        "                      (\"column_transformer\",column_trans),\n",
        "                     (\"scaler\",StandardScaler()),\n",
        "                      (\"randomforestRegressor\",RandomForestRegressor())\n",
        "                     ])\n",
        "pipeline.fit(X_train,y_train)"
      ]
    },
    {
      "cell_type": "code",
      "execution_count": 60,
      "metadata": {
        "id": "4oxQ2Zftj6-s"
      },
      "outputs": [],
      "source": [
        "X_pred = pipeline.predict(X_test)"
      ]
    },
    {
      "cell_type": "code",
      "execution_count": 61,
      "metadata": {
        "colab": {
          "base_uri": "https://localhost:8080/"
        },
        "id": "MvRrK_y6nEDQ",
        "outputId": "cce1e4f7-6280-426f-f4f6-5702a2cd6550"
      },
      "outputs": [
        {
          "data": {
            "text/plain": [
              "0.9106003039737995"
            ]
          },
          "execution_count": 61,
          "metadata": {},
          "output_type": "execute_result"
        }
      ],
      "source": [
        "r2_score(y_test,X_pred)"
      ]
    },
    {
      "cell_type": "markdown",
      "metadata": {
        "id": "S4KxGjK4BZMt"
      },
      "source": [
        "**predict**"
      ]
    },
    {
      "cell_type": "code",
      "execution_count": 62,
      "metadata": {
        "id": "_WN5i_YfAvL1"
      },
      "outputs": [],
      "source": [
        "predict_data = [[\"Andaman and Nicobar Islands\",2000,\"Kharif\",\"Arecanut\",36,35,45,1254.0]]\n",
        "data = {\"State_Name\":[\"Andaman and Nicobar Islands\"],\"Crop_Year\":[2000],\"Season\":[\"Kharif\"],\"Crop\":[\"Arecanut\"],\"Temperature\":[36],\"humidity\":[35],\"soil moisture\":[45],\" area\":[1245.0]}\n",
        "predict_df = pd.DataFrame(predict_data,columns=[\"State_Name\",\"Crop_Year\",\"Season\",\"Crop\",\"Temperature\",\"humidity\",\"soil moisture\",\"area\"])"
      ]
    },
    {
      "cell_type": "code",
      "execution_count": 33,
      "metadata": {
        "colab": {
          "base_uri": "https://localhost:8080/",
          "height": 81
        },
        "id": "F9mT_RAKBeax",
        "outputId": "e1d96410-ee3c-4e31-bd4d-d34173f1ba56"
      },
      "outputs": [
        {
          "data": {
            "text/html": [
              "\n",
              "  <div id=\"df-f796c440-107a-4709-8bc4-acaec22910cb\">\n",
              "    <div class=\"colab-df-container\">\n",
              "      <div>\n",
              "<style scoped>\n",
              "    .dataframe tbody tr th:only-of-type {\n",
              "        vertical-align: middle;\n",
              "    }\n",
              "\n",
              "    .dataframe tbody tr th {\n",
              "        vertical-align: top;\n",
              "    }\n",
              "\n",
              "    .dataframe thead th {\n",
              "        text-align: right;\n",
              "    }\n",
              "</style>\n",
              "<table border=\"1\" class=\"dataframe\">\n",
              "  <thead>\n",
              "    <tr style=\"text-align: right;\">\n",
              "      <th></th>\n",
              "      <th>State_Name</th>\n",
              "      <th>Crop_Year</th>\n",
              "      <th>Season</th>\n",
              "      <th>Crop</th>\n",
              "      <th>Temperature</th>\n",
              "      <th>humidity</th>\n",
              "      <th>soil moisture</th>\n",
              "      <th>area</th>\n",
              "    </tr>\n",
              "  </thead>\n",
              "  <tbody>\n",
              "    <tr>\n",
              "      <th>0</th>\n",
              "      <td>Andaman and Nicobar Islands</td>\n",
              "      <td>2000</td>\n",
              "      <td>Kharif</td>\n",
              "      <td>Arecanut</td>\n",
              "      <td>36</td>\n",
              "      <td>35</td>\n",
              "      <td>45</td>\n",
              "      <td>1245.0</td>\n",
              "    </tr>\n",
              "  </tbody>\n",
              "</table>\n",
              "</div>\n",
              "      <button class=\"colab-df-convert\" onclick=\"convertToInteractive('df-f796c440-107a-4709-8bc4-acaec22910cb')\"\n",
              "              title=\"Convert this dataframe to an interactive table.\"\n",
              "              style=\"display:none;\">\n",
              "        \n",
              "  <svg xmlns=\"http://www.w3.org/2000/svg\" height=\"24px\"viewBox=\"0 0 24 24\"\n",
              "       width=\"24px\">\n",
              "    <path d=\"M0 0h24v24H0V0z\" fill=\"none\"/>\n",
              "    <path d=\"M18.56 5.44l.94 2.06.94-2.06 2.06-.94-2.06-.94-.94-2.06-.94 2.06-2.06.94zm-11 1L8.5 8.5l.94-2.06 2.06-.94-2.06-.94L8.5 2.5l-.94 2.06-2.06.94zm10 10l.94 2.06.94-2.06 2.06-.94-2.06-.94-.94-2.06-.94 2.06-2.06.94z\"/><path d=\"M17.41 7.96l-1.37-1.37c-.4-.4-.92-.59-1.43-.59-.52 0-1.04.2-1.43.59L10.3 9.45l-7.72 7.72c-.78.78-.78 2.05 0 2.83L4 21.41c.39.39.9.59 1.41.59.51 0 1.02-.2 1.41-.59l7.78-7.78 2.81-2.81c.8-.78.8-2.07 0-2.86zM5.41 20L4 18.59l7.72-7.72 1.47 1.35L5.41 20z\"/>\n",
              "  </svg>\n",
              "      </button>\n",
              "      \n",
              "  <style>\n",
              "    .colab-df-container {\n",
              "      display:flex;\n",
              "      flex-wrap:wrap;\n",
              "      gap: 12px;\n",
              "    }\n",
              "\n",
              "    .colab-df-convert {\n",
              "      background-color: #E8F0FE;\n",
              "      border: none;\n",
              "      border-radius: 50%;\n",
              "      cursor: pointer;\n",
              "      display: none;\n",
              "      fill: #1967D2;\n",
              "      height: 32px;\n",
              "      padding: 0 0 0 0;\n",
              "      width: 32px;\n",
              "    }\n",
              "\n",
              "    .colab-df-convert:hover {\n",
              "      background-color: #E2EBFA;\n",
              "      box-shadow: 0px 1px 2px rgba(60, 64, 67, 0.3), 0px 1px 3px 1px rgba(60, 64, 67, 0.15);\n",
              "      fill: #174EA6;\n",
              "    }\n",
              "\n",
              "    [theme=dark] .colab-df-convert {\n",
              "      background-color: #3B4455;\n",
              "      fill: #D2E3FC;\n",
              "    }\n",
              "\n",
              "    [theme=dark] .colab-df-convert:hover {\n",
              "      background-color: #434B5C;\n",
              "      box-shadow: 0px 1px 3px 1px rgba(0, 0, 0, 0.15);\n",
              "      filter: drop-shadow(0px 1px 2px rgba(0, 0, 0, 0.3));\n",
              "      fill: #FFFFFF;\n",
              "    }\n",
              "  </style>\n",
              "\n",
              "      <script>\n",
              "        const buttonEl =\n",
              "          document.querySelector('#df-f796c440-107a-4709-8bc4-acaec22910cb button.colab-df-convert');\n",
              "        buttonEl.style.display =\n",
              "          google.colab.kernel.accessAllowed ? 'block' : 'none';\n",
              "\n",
              "        async function convertToInteractive(key) {\n",
              "          const element = document.querySelector('#df-f796c440-107a-4709-8bc4-acaec22910cb');\n",
              "          const dataTable =\n",
              "            await google.colab.kernel.invokeFunction('convertToInteractive',\n",
              "                                                     [key], {});\n",
              "          if (!dataTable) return;\n",
              "\n",
              "          const docLinkHtml = 'Like what you see? Visit the ' +\n",
              "            '<a target=\"_blank\" href=https://colab.research.google.com/notebooks/data_table.ipynb>data table notebook</a>'\n",
              "            + ' to learn more about interactive tables.';\n",
              "          element.innerHTML = '';\n",
              "          dataTable['output_type'] = 'display_data';\n",
              "          await google.colab.output.renderOutput(dataTable, element);\n",
              "          const docLink = document.createElement('div');\n",
              "          docLink.innerHTML = docLinkHtml;\n",
              "          element.appendChild(docLink);\n",
              "        }\n",
              "      </script>\n",
              "    </div>\n",
              "  </div>\n",
              "  "
            ],
            "text/plain": [
              "                    State_Name  Crop_Year  Season      Crop  Temperature  \\\n",
              "0  Andaman and Nicobar Islands       2000  Kharif  Arecanut           36   \n",
              "\n",
              "   humidity  soil moisture    area  \n",
              "0        35             45  1245.0  "
            ]
          },
          "execution_count": 33,
          "metadata": {},
          "output_type": "execute_result"
        }
      ],
      "source": [
        "pd.DataFrame(data)"
      ]
    },
    {
      "cell_type": "code",
      "execution_count": 34,
      "metadata": {
        "id": "ZMD2-id9C7w_"
      },
      "outputs": [],
      "source": [
        "\n",
        "tnf = column_trans.transform(pd.DataFrame(data))"
      ]
    },
    {
      "cell_type": "code",
      "execution_count": 53,
      "metadata": {
        "colab": {
          "base_uri": "https://localhost:8080/"
        },
        "id": "KSWPI7W_DAQA",
        "outputId": "842d72e7-a8ae-406a-de29-53f8ccbe0dec"
      },
      "outputs": [
        {
          "data": {
            "text/plain": [
              "array([1510.968])"
            ]
          },
          "execution_count": 53,
          "metadata": {},
          "output_type": "execute_result"
        }
      ],
      "source": [
        "model.predict(tnf)"
      ]
    },
    {
      "cell_type": "code",
      "execution_count": 63,
      "metadata": {
        "colab": {
          "base_uri": "https://localhost:8080/"
        },
        "id": "0oyheVxRE36a",
        "outputId": "29965882-d51a-4a6a-9a0c-8250b5062c57"
      },
      "outputs": [
        {
          "data": {
            "text/plain": [
              "array([1495.5405])"
            ]
          },
          "execution_count": 63,
          "metadata": {},
          "output_type": "execute_result"
        }
      ],
      "source": [
        "pipeline.predict(pd.DataFrame(data))"
      ]
    },
    {
      "cell_type": "code",
      "execution_count": 74,
      "metadata": {
        "colab": {
          "base_uri": "https://localhost:8080/"
        },
        "id": "ahPuxUD2myCr",
        "outputId": "70580bdb-1749-452a-ab98-b0b77320db3d"
      },
      "outputs": [
        {
          "data": {
            "text/plain": [
              "array([81976.63])"
            ]
          },
          "execution_count": 74,
          "metadata": {},
          "output_type": "execute_result"
        }
      ],
      "source": [
        "pipeline.predict(pd.DataFrame({\"State_Name\":[\"Bihar\"],\"Crop_Year\":[2022],\"Season\":[\"Kharif\"],\"Crop\":[\"Tomato\"],\"Temperature\":[48],\"humidity\":[32],\"soil moisture\":[40],\" area\":[4000]}))"
      ]
    },
    {
      "cell_type": "code",
      "execution_count": 72,
      "metadata": {
        "id": "gC5qRg7Jo4x1"
      },
      "outputs": [],
      "source": []
    },
    {
      "cell_type": "markdown",
      "metadata": {
        "id": "E8oGvoy5twSV"
      },
      "source": [
        "**training with full data**"
      ]
    },
    {
      "cell_type": "code",
      "execution_count": 81,
      "metadata": {
        "colab": {
          "base_uri": "https://localhost:8080/"
        },
        "id": "kqGL-4FspFWX",
        "outputId": "ebafda6e-6c0c-46a3-f6d4-e2f3153b6da9"
      },
      "outputs": [
        {
          "data": {
            "text/plain": [
              "Pipeline(steps=[('column_transformer',\n",
              "                 ColumnTransformer(remainder='passthrough',\n",
              "                                   transformers=[('onehotencoder',\n",
              "                                                  OneHotEncoder(categories=[array(['Andaman and Nicobar Islands', 'Andhra Pradesh',\n",
              "       'Arunachal Pradesh', 'Assam', 'Bihar', 'Chandigarh',\n",
              "       'Chhattisgarh'], dtype=object),\n",
              "                                                                            array(['Autumn', 'Kharif', 'Rabi', 'Summer', 'Whole Year', 'Winter'],\n",
              "      dtype=object),\n",
              "                                                                            array(['...\n",
              "       'Sapota', 'Sesamum', 'Small millets', 'Soyabean', 'Sugarcane',\n",
              "       'Sunflower', 'Sweet potato', 'Tapioca', 'Tobacco', 'Tomato',\n",
              "       'Turmeric', 'Urad', 'Varagu', 'Wheat', 'other fibres',\n",
              "       'other misc. pulses', 'other oilseeds'], dtype=object)],\n",
              "                                                                drop='first',\n",
              "                                                                sparse=False),\n",
              "                                                  ['State_Name', 'Season',\n",
              "                                                   'Crop'])])),\n",
              "                ('scaler', StandardScaler()),\n",
              "                ('randomforestRegressor', RandomForestRegressor())])"
            ]
          },
          "execution_count": 81,
          "metadata": {},
          "output_type": "execute_result"
        }
      ],
      "source": [
        "pipeline.fit(X,y)"
      ]
    },
    {
      "cell_type": "code",
      "execution_count": 82,
      "metadata": {
        "colab": {
          "base_uri": "https://localhost:8080/"
        },
        "id": "ZOSFtV-suCML",
        "outputId": "bcae83d0-2359-4572-f33f-8b7a4837a665"
      },
      "outputs": [
        {
          "data": {
            "text/plain": [
              "array([75429.27])"
            ]
          },
          "execution_count": 82,
          "metadata": {},
          "output_type": "execute_result"
        }
      ],
      "source": [
        "pipeline.predict(pd.DataFrame({\"State_Name\":[\"Bihar\"],\"Crop_Year\":[2022],\"Season\":[\"Kharif\"],\"Crop\":[\"Tomato\"],\"Temperature\":[48],\"humidity\":[32],\"soil moisture\":[40],\" area\":[4000]}))"
      ]
    },
    {
      "cell_type": "code",
      "execution_count": null,
      "metadata": {
        "id": "rRVoiP0-uttD"
      },
      "outputs": [],
      "source": []
    },
    {
      "cell_type": "markdown",
      "metadata": {
        "id": "9SJhiej3u52M"
      },
      "source": [
        "**saving model**\n"
      ]
    },
    {
      "cell_type": "code",
      "execution_count": 83,
      "metadata": {
        "id": "S8w6fb6Du9To"
      },
      "outputs": [],
      "source": [
        "import pickle\n",
        "with open(\"crop_model_pkl\",\"wb\") as files:\n",
        "  pickle.dump(pipeline,files)"
      ]
    },
    {
      "cell_type": "code",
      "execution_count": 84,
      "metadata": {
        "id": "H9qI2pGxvJwd"
      },
      "outputs": [],
      "source": [
        "with open(\"crop_model_pkl\",\"rb\") as files:\n",
        "  saved_model = pickle.load(files)"
      ]
    },
    {
      "cell_type": "code",
      "execution_count": 85,
      "metadata": {
        "colab": {
          "base_uri": "https://localhost:8080/"
        },
        "id": "Y-upl48RvSQl",
        "outputId": "1d0d95a3-512f-4ea0-d095-68fff948ba36"
      },
      "outputs": [
        {
          "data": {
            "text/plain": [
              "array([75429.27])"
            ]
          },
          "execution_count": 85,
          "metadata": {},
          "output_type": "execute_result"
        }
      ],
      "source": [
        "saved_model.predict(pd.DataFrame({\"State_Name\":[\"Bihar\"],\"Crop_Year\":[2022],\"Season\":[\"Kharif\"],\"Crop\":[\"Tomato\"],\"Temperature\":[48],\"humidity\":[32],\"soil moisture\":[40],\" area\":[4000]}))"
      ]
    },
    {
      "cell_type": "code",
      "execution_count": null,
      "metadata": {
        "id": "jfxlvaHtvY5w"
      },
      "outputs": [],
      "source": []
    }
  ],
  "metadata": {
    "colab": {
      "collapsed_sections": [],
      "provenance": []
    },
    "kernelspec": {
      "display_name": "Python 3.9.6 64-bit",
      "language": "python",
      "name": "python3"
    },
    "language_info": {
      "name": "python",
      "version": "3.9.6"
    },
    "vscode": {
      "interpreter": {
        "hash": "81794d4967e6c3204c66dcd87b604927b115b27c00565d3d43f05ba2f3a2cb0d"
      }
    }
  },
  "nbformat": 4,
  "nbformat_minor": 0
}
